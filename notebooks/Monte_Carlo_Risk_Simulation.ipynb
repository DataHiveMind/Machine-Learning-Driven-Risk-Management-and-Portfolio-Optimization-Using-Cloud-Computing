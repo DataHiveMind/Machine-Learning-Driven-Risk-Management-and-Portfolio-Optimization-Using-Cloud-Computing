{
 "cells": [
  {
   "cell_type": "code",
   "execution_count": null,
   "id": "824e424f",
   "metadata": {
    "vscode": {
     "languageId": "plaintext"
    }
   },
   "outputs": [],
   "source": [
    "# Load required libraries\n",
    "library(quantmod)\n",
    "library(PerformanceAnalytics)\n",
    "\n",
    "# Fetch financial data\n",
    "getSymbols(\"AAPL\", src=\"yahoo\", from=\"2020-01-01\", to=\"2025-01-01\")\n",
    "returns <- dailyReturn(AAPL)\n",
    "\n",
    "# Monte Carlo Simulation\n",
    "set.seed(42)\n",
    "simulations <- 10000  # Number of simulations\n",
    "initial_investment <- 100000  # Portfolio value\n",
    "simulated_returns <- matrix(nrow=simulations, ncol=30)  # 30-day forecast\n",
    "\n",
    "for (i in 1:simulations) {\n",
    "  simulated_returns[i, ] <- cumprod(1 + rnorm(30, mean=mean(returns), sd=sd(returns)))\n",
    "}\n",
    "\n",
    "final_values <- initial_investment * simulated_returns[,30]\n",
    "VaR_95 <- quantile(final_values, probs=0.05)\n",
    "print(paste(\"95% Value at Risk:\", round(VaR_95, 2)))\n"
   ]
  }
 ],
 "metadata": {
  "language_info": {
   "name": "python"
  }
 },
 "nbformat": 4,
 "nbformat_minor": 5
}
