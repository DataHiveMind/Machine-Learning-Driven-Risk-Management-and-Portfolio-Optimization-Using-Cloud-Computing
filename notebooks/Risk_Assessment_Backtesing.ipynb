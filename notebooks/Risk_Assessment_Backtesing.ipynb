{
 "cells": [
  {
   "cell_type": "code",
   "execution_count": null,
   "id": "b445c59d",
   "metadata": {
    "vscode": {
     "languageId": "plaintext"
    }
   },
   "outputs": [],
   "source": [
    "# Load dataset\n",
    "library(quantmod)\n",
    "getSymbols(\"AAPL\", src=\"yahoo\", from=\"2020-01-01\", to=\"2025-01-01\")\n",
    "\n",
    "# Compute daily returns\n",
    "returns <- dailyReturn(AAPL)\n",
    "\n",
    "# Calculate Sharpe Ratio\n",
    "sharpe_ratio <- mean(returns) / sd(returns)\n",
    "print(paste(\"Sharpe Ratio:\", sharpe_ratio))\n"
   ]
  }
 ],
 "metadata": {
  "language_info": {
   "name": "python"
  }
 },
 "nbformat": 4,
 "nbformat_minor": 5
}
