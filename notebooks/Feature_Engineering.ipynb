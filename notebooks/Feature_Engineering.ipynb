{
 "cells": [
  {
   "cell_type": "code",
   "execution_count": null,
   "id": "66d6e70c",
   "metadata": {
    "vscode": {
     "languageId": "plaintext"
    }
   },
   "outputs": [],
   "source": [
    "import numpy as np\n",
    "\n",
    "def compute_moving_avg(df, window=50):\n",
    "    df[f\"SMA_{window}\"] = df[\"close_price\"].rolling(window=window).mean()\n",
    "    return df\n",
    "\n",
    "def compute_volatility(df, window=20):\n",
    "    df[\"volatility\"] = df[\"close_price\"].pct_change().rolling(window=window).std()\n",
    "    return df\n",
    "\n",
    "df = compute_moving_avg(df)\n",
    "df = compute_volatility(df)\n",
    "print(df.head())\n"
   ]
  }
 ],
 "metadata": {
  "language_info": {
   "name": "python"
  }
 },
 "nbformat": 4,
 "nbformat_minor": 5
}
