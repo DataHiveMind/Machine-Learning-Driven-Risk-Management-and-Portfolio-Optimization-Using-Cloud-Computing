{
 "cells": [
  {
   "cell_type": "code",
   "execution_count": null,
   "id": "56994716",
   "metadata": {
    "vscode": {
     "languageId": "plaintext"
    }
   },
   "outputs": [],
   "source": [
    "import pyodbc\n",
    "import pandas as pd\n",
    "\n",
    "# Azure SQL Database Connection\n",
    "SQL_SERVER = \"your-sql-server.database.windows.net\"\n",
    "DATABASE = \"your-database\"\n",
    "USERNAME = \"your-username\"\n",
    "PASSWORD = \"your-password\"\n",
    "DRIVER = \"{ODBC Driver 17 for SQL Server}\"\n",
    "\n",
    "def track_trade(date, asset, action, quantity, price):\n",
    "    \"\"\"Insert a new trade execution into Azure SQL Database.\"\"\"\n",
    "    conn = pyodbc.connect(f'DRIVER={DRIVER};SERVER={SQL_SERVER};DATABASE={DATABASE};UID={USERNAME};PWD={PASSWORD}')\n",
    "    cursor = conn.cursor()\n",
    "    \n",
    "    cursor.execute(\"\"\"\n",
    "        INSERT INTO trade_log (date, asset, action, quantity, price)\n",
    "        VALUES (?, ?, ?, ?, ?)\n",
    "    \"\"\", date, asset, action, quantity, price)\n",
    "    \n",
    "    conn.commit()\n",
    "    conn.close()\n",
    "    print(\"Trade execution stored!\")\n",
    "\n",
    "def fetch_trade_history():\n",
    "    \"\"\"Retrieve executed trades for backtesting.\"\"\"\n",
    "    conn = pyodbc.connect(f'DRIVER={DRIVER};SERVER={SQL_SERVER};DATABASE={DATABASE};UID={USERNAME};PWD={PASSWORD}')\n",
    "    query = \"SELECT * FROM trade_log ORDER BY date DESC\"\n",
    "    df = pd.read_sql(query, conn)\n",
    "    conn.close()\n",
    "    return df\n",
    "\n",
    "# Example Usage\n",
    "track_trade(\"2025-04-08\", \"AAPL\", \"BUY\", 10, 165.2)\n",
    "print(fetch_trade_history())\n"
   ]
  }
 ],
 "metadata": {
  "language_info": {
   "name": "python"
  }
 },
 "nbformat": 4,
 "nbformat_minor": 5
}
