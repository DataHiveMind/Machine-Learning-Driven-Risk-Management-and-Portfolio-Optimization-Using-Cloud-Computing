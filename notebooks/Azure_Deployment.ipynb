{
 "cells": [
  {
   "cell_type": "code",
   "execution_count": null,
   "id": "ae182d5d",
   "metadata": {
    "vscode": {
     "languageId": "plaintext"
    }
   },
   "outputs": [],
   "source": [
    "from azureml.core import Workspace, Model\n",
    "\n",
    "ws = Workspace.from_config()\n",
    "model = Model.register(workspace=ws, model_path=\"ppo_stock_trading.zip\", model_name=\"PortfolioOptimizer\")\n",
    "\n",
    "print(\"Model successfully deployed in Azure ML!\")\n"
   ]
  }
 ],
 "metadata": {
  "language_info": {
   "name": "python"
  }
 },
 "nbformat": 4,
 "nbformat_minor": 5
}
